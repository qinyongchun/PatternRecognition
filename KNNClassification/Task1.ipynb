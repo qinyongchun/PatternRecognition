{
 "cells": [
  {
   "cell_type": "markdown",
   "id": "motivated-perth",
   "metadata": {},
   "source": [
    "定义分类器"
   ]
  },
  {
   "cell_type": "code",
   "execution_count": 54,
   "id": "polish-procedure",
   "metadata": {},
   "outputs": [],
   "source": [
    "import numpy as np\n",
    "import pandas as pd\n",
    "import matplotlib.pyplot as plt\n",
    "import math\n",
    "\n",
    "data_train = np.array(pd.read_csv(r'train_data.csv'))\n",
    "data_test = np.array(pd.read_csv(r'test_data.csv'))\n",
    "data_val = np.array(pd.read_csv(r'val_data.csv'))\n",
    "\n",
    "train_mean=np.zeros((5,1))\n",
    "train_sigma=np.ones((5,1))\n",
    "#print(data_train)\n",
    "for i in range(4):\n",
    "    train_mean[i]=np.mean(data_train[:,i])\n",
    "    train_sigma[i]=np.std(data_train[:,i])\n",
    "#print(train_mean)\n",
    "#print(train_sigma)\n",
    "data_train=(data_train-train_mean.T)/train_sigma.T\n",
    "data_val=(data_val-train_mean.T)/train_sigma.T\n",
    "#print(data_val)"
   ]
  },
  {
   "cell_type": "code",
   "execution_count": 45,
   "id": "exact-worry",
   "metadata": {},
   "outputs": [],
   "source": [
    "def KNN(dis_kind,k):#距离度量函数类型，k值，dis_kind=1，2，inf分别为欧式、曼哈顿、切比雪夫距离\n",
    "    if (k % 2) == 0:#只取k为奇数\n",
    "        return 0\n",
    "    result=np.zeros((data_val.shape[0],1))\n",
    "    for i in range(0,data_val.shape[0]):\n",
    "        distance = np.zeros((data_train.shape[0],2))\n",
    "        for j in range(0,data_train.shape[0]):#计算待测点和训练集所有点的距离\n",
    "            distance[j,0]=np.linalg.norm(data_val[i,0:4]-data_train[j,0:4], ord=dis_kind)\n",
    "        distance[:,1]=range(data_train.shape[0])\n",
    "        a=np.lexsort(distance.T[:1,:])#排序后获取在原数组中的位置\n",
    "        sort=distance[a,:]\n",
    "        count1=0#属于类别1的个数\n",
    "        count0=0#属于类别0的个数\n",
    "        for j in range(k):\n",
    "            if data_train[int(sort[j,1]),4]==1:\n",
    "                count1=count1+1\n",
    "            else:\n",
    "                count0=count0+1\n",
    "        for n in range(1,10):#考察在近邻边界上是否有重叠的点\n",
    "            if sort[n+j,0]!=sort[j,0]:#没有，退出\n",
    "                break\n",
    "            else:\n",
    "                if data_train[int(sort[n+j,1]),4]==1:\n",
    "                    count1=count1+1\n",
    "                else:\n",
    "                    count0=count0+1\n",
    "\n",
    "        if count1>count0:#选择数量占多数的类别\n",
    "            result[i]=1\n",
    "\n",
    "    correct=0\n",
    "    for i in range(0,data_val.shape[0]):\n",
    "        if result[i,0]==data_val[i,4]:\n",
    "            correct=correct+1\n",
    "    return correct/data_val.shape[0]"
   ]
  },
  {
   "cell_type": "markdown",
   "id": "tracked-scholarship",
   "metadata": {},
   "source": [
    "交叉验证以及进行KNN分类"
   ]
  },
  {
   "cell_type": "code",
   "execution_count": 46,
   "id": "binary-peripheral",
   "metadata": {
    "scrolled": true
   },
   "outputs": [
    {
     "data": {
      "image/png": "[encoded data removed]",
      "text/plain": [
       "<Figure size 432x288 with 1 Axes>"
      ]
     },
     "metadata": {
      "needs_background": "light"
     },
     "output_type": "display_data"
    }
   ],
   "source": [
    "N=50\n",
    "KNN_E=np.zeros((N,1))\n",
    "KNN_M=np.zeros((N,1))\n",
    "KNN_C=np.zeros((N,1))\n",
    "for k in range(0,N):\n",
    "    KNN_E[k]=KNN(2,k+1)\n",
    "    KNN_M[k]=KNN(1,k+1)\n",
    "    KNN_C[k]=KNN(np.inf,k+1)\n",
    "\n",
    "x=np.arange(1,N+1)\n",
    "plt.plot(x[::2],KNN_C[::2],marker='o',c='green',label='Chebyshev Distance')\n",
    "plt.plot(x[::2],KNN_M[::2],marker='*',c='red',label='Manhattan Distance')\n",
    "plt.plot(x[::2],KNN_E[::2],marker='x',c='blue',label='Euclidean Distance')\n",
    "x_tick = np.linspace(1,N,N)\n",
    "plt.xticks(x_tick[::2])\n",
    "plt.legend(loc=\"upper right\")\n",
    "plt.xlabel('K-number')\n",
    "plt.ylabel('Accuracy')\n",
    "plt.savefig('Accuracy2.png',dpi=600)\n",
    "plt.show()"
   ]
  },
  {
   "cell_type": "code",
   "execution_count": 50,
   "id": "atmospheric-claim",
   "metadata": {},
   "outputs": [
    {
     "name": "stdout",
     "output_type": "stream",
     "text": [
      "0.7356756756756755\n",
      "0.7378378378378377\n",
      "0.7216216216216216\n"
     ]
    }
   ],
   "source": [
    "print(np.mean(KNN_E)*2)\n",
    "print(np.mean(KNN_M)*2)\n",
    "print(np.mean(KNN_C)*2)"
   ]
  },
  {
   "cell_type": "markdown",
   "id": "wicked-admission",
   "metadata": {},
   "source": [
    "对测试集做预测"
   ]
  },
  {
   "cell_type": "code",
   "execution_count": 52,
   "id": "applicable-notebook",
   "metadata": {},
   "outputs": [],
   "source": [
    "def KNN_pred(dis_kind,k,data_val):#距离度量函数类型，k值，dis_kind=1，2，inf分别为欧式、曼哈顿、切比雪夫距离\n",
    "    if (k % 2) == 0:#只取奇数\n",
    "        return 0\n",
    "    result=np.zeros((data_val.shape[0],1))\n",
    "    for i in range(0,data_val.shape[0]):\n",
    "        distance = np.zeros((data_train.shape[0],2))#计算待测点和训练集所有点的距离\n",
    "        for j in range(0,data_train.shape[0]):\n",
    "            distance[j,0]=np.linalg.norm(data_val[i,0:4]-data_train[j,0:4], ord=dis_kind)\n",
    "        distance[:,1]=range(data_train.shape[0])\n",
    "        a=np.lexsort(distance.T[:1,:])#排序后获取在原数组中的位置\n",
    "        sort=distance[a,:]\n",
    "        count1=0#属于类别1的个数\n",
    "        count0=0#属于类别0的个数\n",
    "        for j in range(k):\n",
    "            if data_train[int(sort[j,1]),4]==1:\n",
    "                count1=count1+1\n",
    "            else:\n",
    "                count0=count0+1\n",
    "        for n in range(1,10):\n",
    "            if sort[n+j,0]!=sort[j,0]:#考察在近邻边界上是否有重叠的点\n",
    "                break#没有，退出\n",
    "            else:\n",
    "                if data_train[int(sort[n+j,1]),4]==1:\n",
    "                    count1=count1+1\n",
    "                else:\n",
    "                    count0=count0+1\n",
    "\n",
    "        if count1>count0:#选择数量占多数的类别\n",
    "            result[i]=1\n",
    "\n",
    "    return result"
   ]
  },
  {
   "cell_type": "code",
   "execution_count": 56,
   "id": "hungry-stage",
   "metadata": {},
   "outputs": [],
   "source": [
    "\n",
    "data_test2=np.zeros(data_test.shape)\n",
    "for i in range(4):\n",
    "    data_test2[:,i]=(data_test[:,i]-train_mean[i])/train_sigma[i]\n",
    "    \n",
    "pred = KNN_pred(1,1,data_test2)\n",
    "prediction=np.c_[data_test,pred]\n",
    "prediction=prediction.astype(np.uint16)\n",
    "sample={\n",
    "    'Recency (months)':prediction[:,0],\n",
    "    'Frequency (times)':prediction[:,1],\n",
    "    'Monetary (c.c. blood)':prediction[:,2],\n",
    "    'Time (months)':prediction[:,3],\n",
    "    'My prediction':prediction[:,4],\n",
    "}\n",
    "pd.DataFrame(sample).to_csv('task1_test_Euclidean.csv',index=False)\n",
    "\n",
    "pred = KNN_pred(2,1,data_test2)\n",
    "prediction=np.c_[data_test,pred]\n",
    "prediction=prediction.astype(np.uint16)\n",
    "sample={\n",
    "    'Recency (months)':prediction[:,0],\n",
    "    'Frequency (times)':prediction[:,1],\n",
    "    'Monetary (c.c. blood)':prediction[:,2],\n",
    "    'Time (months)':prediction[:,3],\n",
    "    'My prediction':prediction[:,4],\n",
    "}\n",
    "pd.DataFrame(sample).to_csv('task1_test_Manhattan.csv',index=False)\n",
    "\n",
    "pred = KNN_pred(np.inf,1,data_test2)\n",
    "prediction=np.c_[data_test,pred]\n",
    "prediction=prediction.astype(np.uint16)\n",
    "sample={\n",
    "    'Recency (months)':prediction[:,0],\n",
    "    'Frequency (times)':prediction[:,1],\n",
    "    'Monetary (c.c. blood)':prediction[:,2],\n",
    "    'Time (months)':prediction[:,3],\n",
    "    'My prediction':prediction[:,4],\n",
    "}\n",
    "pd.DataFrame(sample).to_csv('task1_test_Chebyshev.csv',index=False)"
   ]
  },
  {
   "cell_type": "code",
   "execution_count": null,
   "id": "absent-elite",
   "metadata": {},
   "outputs": [],
   "source": []
  }
 ],
 "metadata": {
  "kernelspec": {
   "display_name": "Python 3",
   "language": "python",
   "name": "python3"
  },
  "language_info": {
   "codemirror_mode": {
    "name": "ipython",
    "version": 3
   },
   "file_extension": ".py",
   "mimetype": "text/x-python",
   "name": "python",
   "nbconvert_exporter": "python",
   "pygments_lexer": "ipython3",
   "version": "3.8.5"
  }
 },
 "nbformat": 4,
 "nbformat_minor": 5
}
