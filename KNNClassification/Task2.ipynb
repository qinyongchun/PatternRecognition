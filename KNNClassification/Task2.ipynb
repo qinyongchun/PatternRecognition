{
 "cells": [
  {
   "cell_type": "markdown",
   "id": "transsexual-license",
   "metadata": {},
   "source": [
    "定义求导和KNN分类器"
   ]
  },
  {
   "cell_type": "code",
   "execution_count": null,
   "id": "beginning-traffic",
   "metadata": {},
   "outputs": [],
   "source": [
    "import numpy as np\n",
    "import pandas as pd\n",
    "import matplotlib.pyplot as plt\n",
    "from numpy import random\n",
    "import math\n",
    "\n",
    "data_train = np.array(pd.read_csv(r'train_data.csv'))\n",
    "data_test = np.array(pd.read_csv(r'test_data.csv'))\n",
    "data_val = np.array(pd.read_csv(r'val_data.csv'))\n",
    "\n",
    "train_mean=np.zeros((5,1))\n",
    "train_sigma=np.ones((5,1))\n",
    "for i in range(4):\n",
    "    train_mean[i]=np.mean(data_train[:,i])\n",
    "    train_sigma[i]=np.std(data_train[:,i])\n",
    "data_train=(data_train-train_mean.T)/train_sigma.T\n",
    "data_val=(data_val-train_mean.T)/train_sigma.T\n",
    "\n",
    "N=10#训练轮次\n",
    "fa=np.zeros((N,1))\n",
    "\n",
    "\n",
    "def KNN_M(k,A):#k值，矩阵A\n",
    "    if (k % 2) == 0:#只取奇数\n",
    "        return 0\n",
    "    result=np.zeros((data_val.shape[0],1))\n",
    "    for i in range(0,data_val.shape[0]):\n",
    "        distance = np.zeros((data_train.shape[0],2))#计算待测点和训练集所有点的距离\n",
    "        for j in range(0,data_train.shape[0]):\n",
    "            distance[j,0]=np.linalg.norm(np.dot(A,(data_val[i,0:4]-data_train[j,0:4]).reshape(4,1)))#马氏距离\n",
    "        distance[:,1]=range(data_train.shape[0])\n",
    "        a=np.lexsort(distance.T[:1,:])#排序后获取在原数组中的位置\n",
    "        sort=distance[a,:]\n",
    "        count1=0#属于类别1的个数\n",
    "        count0=0#属于类别0的个数\n",
    "        for j in range(k):\n",
    "            if data_train[int(sort[j,1]),4]==1:\n",
    "                count1=count1+1\n",
    "            else:\n",
    "                count0=count0+1\n",
    "        for n in range(1,10):\n",
    "            if sort[n+j,0]!=sort[j,0]:#考察在近邻边界上是否有重叠的点\n",
    "                break#没有，退出\n",
    "            else:\n",
    "                if data_train[int(sort[n+j,1]),4]==1:\n",
    "                    count1=count1+1\n",
    "                else:\n",
    "                    count0=count0+1\n",
    "\n",
    "        if count1>count0:#选择数量占多数的类别\n",
    "            result[i]=1\n",
    "\n",
    "    correct=0\n",
    "    for i in range(0,data_val.shape[0]):\n",
    "        if result[i,0]==data_val[i,4]:\n",
    "            correct=correct+1\n",
    "    return correct/data_val.shape[0]\n",
    "\n",
    "def A_learn(A,epoch,lr):\n",
    "    distance2=np.zeros((data_train.shape[0],data_train.shape[0]))\n",
    "    for i in range(data_train.shape[0]):\n",
    "        for j in range(data_train.shape[0]):\n",
    "            dx=(data_train[i,0:4]-data_train[j,0:4]).reshape(4,1)\n",
    "            distance2[i,j]=np.dot(np.dot(dx.T,A.T),np.dot(A,dx))\n",
    "\n",
    "    exp_dis=np.exp(-distance2)\n",
    "    pi=np.zeros((data_train.shape[0],1))\n",
    "    pij=np.zeros((data_train.shape[0],data_train.shape[0]))\n",
    "    for i in range(data_train.shape[0]):\n",
    "        for j in range(data_train.shape[0]):\n",
    "            pij[i,j]=exp_dis[i,j]/(sum(exp_dis[i,:])-exp_dis[i,i])\n",
    "        pij[i,i]=0\n",
    "        for j in range(data_train.shape[0]):\n",
    "            if data_train[i,4]==data_train[j,4]:\n",
    "                pi[i,0]=pi[i,0]+pij[i,j]\n",
    "    \n",
    "    W=np.zeros((data_train.shape[0],data_train.shape[0]))\n",
    "    for i in range(data_train.shape[0]):\n",
    "        for j in range(data_train.shape[0]):\n",
    "            if data_train[i,4]==data_train[j,4]:\n",
    "                W[i,j]=(pi[i,0]-1)*pij[i,j]\n",
    "            else:\n",
    "                W[i,j]=pi[i,0]*pij[i,j] \n",
    "    X=data_train[:,0:4]\n",
    "    grad=2*np.dot(np.dot(np.dot(X,A.T).T,(W.sum(axis=0)-W-W.T)),X)\n",
    "    A=A+grad*lr\n",
    "        #dp=-2*np.dot(A,dp)\n",
    "        #A=A-2*lr*np.dot(A,dp)\n",
    "    f=0\n",
    "    for i in range(data_train.shape[0]):\n",
    "        for j in range(data_train.shape[0]):\n",
    "            if data_train[i,4]==data_train[j,4]:\n",
    "                f=f+pij[i,j]\n",
    "        \n",
    "    print(\"f(A)=\",f)\n",
    "    fa[epoch]=f\n",
    "    return A\n"
   ]
  },
  {
   "cell_type": "markdown",
   "id": "interracial-paper",
   "metadata": {},
   "source": [
    "训练分类器"
   ]
  },
  {
   "cell_type": "code",
   "execution_count": null,
   "id": "agricultural-engine",
   "metadata": {},
   "outputs": [],
   "source": [
    "epoch=N\n",
    "lr=0.001\n",
    "A=random.random(size=(2,4))\n",
    "#A=np.ones((2,4))\n",
    "A=A\n",
    "\n",
    "KNN=np.zeros((N,1))\n",
    "print(\"---------------------------------------------\")\n",
    "for i in range(epoch):\n",
    "    print(\"epoch=\",i,\":\")\n",
    "    A=A_learn(A,i,lr)\n",
    "    KNN[i]=KNN_M(1,A)\n",
    "    print(\"accuracy=\", KNN[i])\n",
    "    print(\"---------------------------------------------\")\n",
    "    #print(\"accuracy=\",Kn_NN_L(1,A))\n",
    "\n",
    "    # print(A)"
   ]
  },
  {
   "cell_type": "markdown",
   "id": "functional-volunteer",
   "metadata": {},
   "source": [
    "画图"
   ]
  },
  {
   "cell_type": "code",
   "execution_count": 14,
   "id": "adult-boutique",
   "metadata": {
    "scrolled": false
   },
   "outputs": [
    {
     "data": {
      "image/png": "[encoded data removed]",
      "text/plain": [
       "<Figure size 432x288 with 2 Axes>"
      ]
     },
     "metadata": {
      "needs_background": "light"
     },
     "output_type": "display_data"
    }
   ],
   "source": [
    "\n",
    "fig, ax1 = plt.subplots()\n",
    "ax2 = ax1.twinx()\n",
    "    \n",
    "x=np.arange(1,N+1)\n",
    "ax1.plot(x,KNN,marker='x',c='blue',label='Mahalanobis Distance')\n",
    "ax2.plot(x,fa,marker='*',c='red',label='Objective Function')\n",
    "x_tick = np.linspace(0,N,6)\n",
    "ax1.set_xlabel(\"epoch\")\n",
    "ax1.set_ylabel(\"Accuracy\")\n",
    "ax2.set_ylabel(\"Value\")\n",
    "plt.xticks(x_tick)\n",
    "ax1.legend(loc=\"upper left\")\n",
    "ax2.legend(loc=\"upper right\")\n",
    "#plt.ylim(31,34)\n",
    "f = plt.gcf()  #获取当前图像\n",
    "f.savefig(r'mission21.png',dpi=600)\n",
    "plt.show()"
   ]
  },
  {
   "cell_type": "code",
   "execution_count": 33,
   "id": "looking-airport",
   "metadata": {},
   "outputs": [
    {
     "name": "stdout",
     "output_type": "stream",
     "text": [
      "[[1.03292395 0.05934473 0.10472689 0.59905512]\n",
      " [0.82038977 0.78978521 0.17499995 0.70298866]]\n"
     ]
    }
   ],
   "source": [
    "print(A)\n",
    "np.savetxt('A.csv',A)"
   ]
  },
  {
   "cell_type": "markdown",
   "id": "frequent-catholic",
   "metadata": {},
   "source": [
    "预测测试集上的分类结果"
   ]
  },
  {
   "cell_type": "code",
   "execution_count": 47,
   "id": "conservative-parcel",
   "metadata": {},
   "outputs": [],
   "source": [
    "def KNN_pred(k,A,data_val):#k值，矩阵A\n",
    "    if (k % 2) == 0:#只取奇数\n",
    "        return 0\n",
    "    result=np.zeros((data_val.shape[0],1))\n",
    "    for i in range(0,data_val.shape[0]):\n",
    "        distance = np.zeros((data_train.shape[0],2))#计算待测点和训练集所有点的距离\n",
    "        for j in range(0,data_train.shape[0]):\n",
    "            distance[j,0]=np.linalg.norm(np.dot(A,(data_val[i,0:4]-data_train[j,0:4]).reshape(4,1)))#马氏距离\n",
    "        distance[:,1]=range(data_train.shape[0])\n",
    "        a=np.lexsort(distance.T[:1,:])#排序后获取在原数组中的位置\n",
    "        sort=distance[a,:]\n",
    "        count1=0#属于类别1的个数\n",
    "        count0=0#属于类别0的个数\n",
    "        for j in range(k):\n",
    "            if data_train[int(sort[j,1]),4]==1:\n",
    "                count1=count1+1\n",
    "            else:\n",
    "                count0=count0+1\n",
    "        for n in range(1,10):\n",
    "            if sort[n+j,0]!=sort[j,0]:#考察在近邻边界上是否有重叠的点\n",
    "                break#没有，退出\n",
    "            else:\n",
    "                if data_train[int(sort[n+j,1]),4]==1:\n",
    "                    count1=count1+1\n",
    "                else:\n",
    "                    count0=count0+1\n",
    "\n",
    "        if count1>count0:#选择数量占多数的类别\n",
    "            result[i]=1\n",
    "\n",
    "    return result"
   ]
  },
  {
   "cell_type": "code",
   "execution_count": 62,
   "id": "fatal-tokyo",
   "metadata": {},
   "outputs": [],
   "source": [
    "data_test2=np.zeros(data_test.shape)\n",
    "for i in range(4):\n",
    "    data_test2[:,i]=(data_test[:,i]-train_mean[i])/train_sigma[i]\n",
    "pred = KNN_pred(1,A,data_test2)\n",
    "prediction=np.c_[data_test,pred]\n",
    "prediction=prediction.astype(np.uint16)\n",
    "sample={\n",
    "    'Recency (months)':prediction[:,0],\n",
    "    'Frequency (times)':prediction[:,1],\n",
    "    'Monetary (c.c. blood)':prediction[:,2],\n",
    "    'Time (months)':prediction[:,3],\n",
    "    'My prediction':prediction[:,4],\n",
    "}\n",
    "pd.DataFrame(sample).to_csv('task2_test_ prediction.csv',index=False)"
   ]
  },
  {
   "cell_type": "code",
   "execution_count": null,
   "id": "presidential-tracy",
   "metadata": {},
   "outputs": [],
   "source": []
  }
 ],
 "metadata": {
  "kernelspec": {
   "display_name": "Python 3",
   "language": "python",
   "name": "python3"
  },
  "language_info": {
   "codemirror_mode": {
    "name": "ipython",
    "version": 3
   },
   "file_extension": ".py",
   "mimetype": "text/x-python",
   "name": "python",
   "nbconvert_exporter": "python",
   "pygments_lexer": "ipython3",
   "version": "3.8.5"
  }
 },
 "nbformat": 4,
 "nbformat_minor": 5
}
